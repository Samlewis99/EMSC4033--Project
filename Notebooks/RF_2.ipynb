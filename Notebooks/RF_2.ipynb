{
 "cells": [
  {
   "cell_type": "markdown",
   "id": "70243793-c527-4d3e-9f6f-8f876945e71b",
   "metadata": {},
   "source": [
    "# Training the data\n",
    "Now we have seen the dataset, pre-proccesed it and defined a research problem we can begin to implement our random forest solution.\n",
    "\n",
    "To import the data we will call a pre-built function that will output the iris panda dataframe we created in the last notebook."
   ]
  },
  {
   "cell_type": "code",
   "execution_count": 1,
   "id": "098671ad-18fe-46bc-95b1-b57ebf313cbb",
   "metadata": {},
   "outputs": [],
   "source": [
    "from Functions_r import f_rf as ft\n",
    "data = ft.get_data()"
   ]
  },
  {
   "cell_type": "markdown",
   "id": "51f36d5f-e328-4954-bbda-eee82ad95458",
   "metadata": {},
   "source": [
    "# Split the data\n",
    "The next step in random forests is to use a sci kit learn package that will split a given dataset into training and testing samples. This is a very important step in almost all machine learning algorithms you will run from here out, so this is very applicable to other work you may undertake."
   ]
  },
  {
   "cell_type": "code",
   "execution_count": 2,
   "id": "c47179c5-d69e-468d-86de-dc61b129b942",
   "metadata": {},
   "outputs": [],
   "source": [
    "# Import train_test_split function\n",
    "from sklearn.model_selection import train_test_split\n",
    "\n",
    "X=data[['sepal length', 'sepal width', 'petal length', 'petal width']]  # Features\n",
    "y=data['species']  # Labels\n",
    "\n",
    "# Split dataset into training set and test set\n",
    "X_train, X_test, y_train, y_test = train_test_split(X, y, test_size=0.3) # 70% training and 30% test"
   ]
  },
  {
   "cell_type": "markdown",
   "id": "5bdf7e19-3724-4914-af47-880c1909562c",
   "metadata": {},
   "source": [
    "**Check** your data split has worked. We would expect the shape of our testing features and labels to be the same, abd vice versa for our training data. We also expect the split to be 70-% (as defined by us). "
   ]
  },
  {
   "cell_type": "code",
   "execution_count": 3,
   "id": "ad0338cb-ace5-410d-bc56-cf0e6f839784",
   "metadata": {},
   "outputs": [
    {
     "name": "stdout",
     "output_type": "stream",
     "text": [
      "Training Features Shape: (105, 4)\n",
      "Training Labels Shape: (105,)\n"
     ]
    }
   ],
   "source": [
    "#Checking shape of training sample\n",
    "print('Training Features Shape:', X_train.shape)\n",
    "print('Training Labels Shape:', y_train.shape)"
   ]
  },
  {
   "cell_type": "code",
   "execution_count": 4,
   "id": "1767d47b-fe17-4afe-a4d7-cefba5df133c",
   "metadata": {},
   "outputs": [],
   "source": [
    "##Try it here\n",
    "## Try create a different percent split and test is has worked"
   ]
  },
  {
   "cell_type": "markdown",
   "id": "cade8fd0-5d8a-42ae-915d-4a5ca1c3a21d",
   "metadata": {},
   "source": [
    "## Train the model\n",
    "After we have prepared our data we can train our model. This step is alot more simple than you might find using the scikit-learn package. We will import the random forest classifier model and set it up in a random state to begin from.\n"
   ]
  },
  {
   "cell_type": "code",
   "execution_count": 5,
   "id": "b86a0d26-fc62-40d7-ac8a-824db34e9459",
   "metadata": {},
   "outputs": [
    {
     "name": "stdout",
     "output_type": "stream",
     "text": [
      "CPU times: user 137 ms, sys: 14.3 ms, total: 152 ms\n",
      "Wall time: 151 ms\n"
     ]
    },
    {
     "data": {
      "text/plain": [
       "RandomForestClassifier()"
      ]
     },
     "execution_count": 5,
     "metadata": {},
     "output_type": "execute_result"
    }
   ],
   "source": [
    "%%time\n",
    "#Import Random Forest Model\n",
    "from sklearn.ensemble import RandomForestClassifier\n",
    "\n",
    "#Instantiate a model\n",
    "clf=RandomForestClassifier(n_estimators=100)\n",
    "\n",
    "#Train the model (fit) using the training features for the label\n",
    "clf.fit(X_train,y_train)\n"
   ]
  },
  {
   "cell_type": "code",
   "execution_count": 6,
   "id": "8c6bb6f6-6de3-40f9-8bb2-ac39b6d42caf",
   "metadata": {},
   "outputs": [],
   "source": [
    "## Test we have created a random forest classifer\n",
    "from test_r import rftest_1 as tt\n",
    "tt.test_random_f(clf)"
   ]
  },
  {
   "cell_type": "markdown",
   "id": "391389b6-35e4-452c-804c-2c0f0a8856d4",
   "metadata": {},
   "source": [
    "## Test the model performance\n",
    "Now we have trained our model, we want it to predict some values from our testing sample. We can get the model to predict the label (species), through the features X_test, without ever seeing the correct results. We will then compare how well it has classified the species by comaparing it to the actual results y_test"
   ]
  },
  {
   "cell_type": "code",
   "execution_count": 10,
   "id": "da119222-69f8-4d75-bb6f-b87c47ceb0ff",
   "metadata": {},
   "outputs": [
    {
     "name": "stdout",
     "output_type": "stream",
     "text": [
      "Accuracy: 0.8666666666666667\n"
     ]
    }
   ],
   "source": [
    "#Use the model to predict using the testing sample\n",
    "y_pred=clf.predict(X_test)\n",
    "#Import scikit-learn metrics module for accuracy calculation\n",
    "from sklearn import metrics\n",
    "# Model Accuracy, how often is the classifier correct?\n",
    "print(\"Accuracy:\",metrics.accuracy_score(y_test, y_pred))"
   ]
  },
  {
   "cell_type": "markdown",
   "id": "c99b57fc-079f-465d-ba47-e01f63c7b407",
   "metadata": {},
   "source": [
    "## The model\n",
    "We now have trained model that can accurately classify 87% of the iris species in this testing sample. We can use our model to make predictions given any random selection of input variables.\n",
    "ie \n",
    "```python\n",
    "clf.predict([[3, 5, 4, 2]])\n",
    "= array([2])```\n",
    "\n",
    "The number 2 here represents the species virginia.\n",
    "\n"
   ]
  },
  {
   "cell_type": "code",
   "execution_count": null,
   "id": "2997cf26-1b13-49b1-8d6d-68ff4a5a393e",
   "metadata": {},
   "outputs": [],
   "source": [
    "##Try testing some random features to see what you get"
   ]
  },
  {
   "cell_type": "markdown",
   "id": "59e7a953-d124-4d34-8414-9093dee6d437",
   "metadata": {},
   "source": [
    "## Try on some data yourself\n",
    "Using the prepared NOAA data, implement the random forest ensemble to predict temperature. **Hint** You will want to swap out the random forest classifier for the random forest regressor."
   ]
  },
  {
   "cell_type": "code",
   "execution_count": null,
   "id": "dd56f985-a7a6-4c41-829e-e53ab9c4fa5a",
   "metadata": {},
   "outputs": [],
   "source": []
  }
 ],
 "metadata": {
  "kernelspec": {
   "display_name": "Python 3 (ipykernel)",
   "language": "python",
   "name": "python3"
  },
  "language_info": {
   "codemirror_mode": {
    "name": "ipython",
    "version": 3
   },
   "file_extension": ".py",
   "mimetype": "text/x-python",
   "name": "python",
   "nbconvert_exporter": "python",
   "pygments_lexer": "ipython3",
   "version": "3.9.7"
  }
 },
 "nbformat": 4,
 "nbformat_minor": 5
}
